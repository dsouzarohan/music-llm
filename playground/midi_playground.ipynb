{
 "cells": [
  {
   "cell_type": "code",
   "id": "initial_id",
   "metadata": {
    "collapsed": true,
    "ExecuteTime": {
     "end_time": "2025-04-15T15:49:42.465547Z",
     "start_time": "2025-04-15T15:49:42.314241Z"
    }
   },
   "source": [
    "from math import floor\n",
    "\n",
    "import music21 as m21\n",
    "import os"
   ],
   "outputs": [],
   "execution_count": 1
  },
  {
   "metadata": {
    "ExecuteTime": {
     "end_time": "2025-04-28T15:36:56.309761Z",
     "start_time": "2025-04-28T15:36:56.307173Z"
    }
   },
   "cell_type": "code",
   "source": [
    "for i in range(0, 2048 - 256, 256 //2):\n",
    "    print(f'input from {i} to {i+256}')\n",
    "    print(f'target from {i+1} to {i+1+256}')\n",
    "    print()"
   ],
   "id": "cc21c92365dfb741",
   "outputs": [
    {
     "name": "stdout",
     "output_type": "stream",
     "text": [
      "input from 0 to 256\n",
      "target from 1 to 257\n",
      "\n",
      "input from 128 to 384\n",
      "target from 129 to 385\n",
      "\n",
      "input from 256 to 512\n",
      "target from 257 to 513\n",
      "\n",
      "input from 384 to 640\n",
      "target from 385 to 641\n",
      "\n",
      "input from 512 to 768\n",
      "target from 513 to 769\n",
      "\n",
      "input from 640 to 896\n",
      "target from 641 to 897\n",
      "\n",
      "input from 768 to 1024\n",
      "target from 769 to 1025\n",
      "\n",
      "input from 896 to 1152\n",
      "target from 897 to 1153\n",
      "\n",
      "input from 1024 to 1280\n",
      "target from 1025 to 1281\n",
      "\n",
      "input from 1152 to 1408\n",
      "target from 1153 to 1409\n",
      "\n",
      "input from 1280 to 1536\n",
      "target from 1281 to 1537\n",
      "\n",
      "input from 1408 to 1664\n",
      "target from 1409 to 1665\n",
      "\n",
      "input from 1536 to 1792\n",
      "target from 1537 to 1793\n",
      "\n",
      "input from 1664 to 1920\n",
      "target from 1665 to 1921\n",
      "\n"
     ]
    }
   ],
   "execution_count": 3
  },
  {
   "metadata": {
    "ExecuteTime": {
     "end_time": "2025-04-15T15:49:43.903303Z",
     "start_time": "2025-04-15T15:49:43.900292Z"
    }
   },
   "cell_type": "code",
   "source": [
    "# load the list of any artists files\n",
    "BASE_MUSIC_PATH = '../data/music/'\n",
    "ISOLATE_MIDI_TRACKS = '../midi/'\n",
    "ARTIST_NAME = 'Guns_N_Roses'\n",
    "for file in os.listdir(BASE_MUSIC_PATH + ARTIST_NAME):\n",
    "    print(file)"
   ],
   "id": "903c2d28b1a81157",
   "outputs": [
    {
     "name": "stdout",
     "output_type": "stream",
     "text": [
      "Knockin_on_Heaven_Door.3.mid\n",
      "Knockin_on_Heaven_Door.2.mid\n",
      "Get_in_the_Ring.mid\n",
      "Sweet_Child_O_Mine.1.mid\n",
      "Knockin_on_Heaven_Door.1.mid\n",
      "Knockin_on_Heaven_Door.4.mid\n",
      "Knockin_on_Heaven_Door.mid\n",
      "You_Could_Be_Mine.mid\n",
      "November_Rain.mid\n",
      "Civil_War.1.mid\n",
      "Rocket_Queen.mid\n",
      "Mr._Brownstone.mid\n",
      "Yesterday_s.mid\n",
      "Don_t_Cry.mid\n",
      "Dust_N_Bones.mid\n",
      "Locomotive.mid\n",
      "Paradise_City.1.mid\n",
      "Civil_War.mid\n",
      "Paradise_City.mid\n",
      "Welcome_to_the_Jungle.2.mid\n",
      "You_Could_Be_Mine.1.mid\n",
      "Welcome_to_the_Jungle.1.mid\n",
      "Welcome_to_the_Jungle.mid\n",
      "Coma.mid\n",
      "November_Rain.4.mid\n",
      "Since_I_Don_t_Have_You.mid\n",
      "November_Rain.1.mid\n",
      "Estranged.mid\n",
      "Nightrain.mid\n",
      "Live_Let_Die.mid\n",
      "Sweet_Child_O_Mine.mid\n",
      "Don_t_Cry.1.mid\n",
      "Back_Off_Bitch.mid\n",
      "Dust_N_Bones.1.mid\n",
      "November_Rain.3.mid\n",
      "November_Rain.2.mid\n",
      "Patience.mid\n",
      "Live_Let_Die.1.mid\n",
      "Patience.1.mid\n",
      "Patience.2.mid\n"
     ]
    }
   ],
   "execution_count": 2
  },
  {
   "metadata": {
    "ExecuteTime": {
     "end_time": "2025-04-15T15:49:45.584637Z",
     "start_time": "2025-04-15T15:49:45.481956Z"
    }
   },
   "cell_type": "code",
   "source": [
    "# midis = []\n",
    "# for file in os.listdir(BASE_MUSIC_PATH + ARTIST_NAME):\n",
    "#     song_name = file.split('.mid')[0].replace('_',' ')\n",
    "#     print(f\"Song: {song_name}\")\n",
    "#     midi = m21.converter.parse(f'{BASE_MUSIC_PATH}{ARTIST_NAME}/{file}')\n",
    "#     midi.songName = song_name # just adding this as a property on the Music21Object, yes, this is possible\n",
    "#     midis.append(midi)\n",
    "midi = m21.converter.parse(f'{BASE_MUSIC_PATH}{ARTIST_NAME}/Don_t_Cry.mid')"
   ],
   "id": "c2ca57979088ad3b",
   "outputs": [],
   "execution_count": 3
  },
  {
   "metadata": {
    "ExecuteTime": {
     "end_time": "2025-04-15T15:27:59.225939Z",
     "start_time": "2025-04-15T15:27:59.224066Z"
    }
   },
   "cell_type": "code",
   "source": [
    "# # Testing out MIDI files\n",
    "# for midi in midis:\n",
    "#     print(midi.songName, midi.duration)"
   ],
   "id": "a8577807e5e9edd5",
   "outputs": [],
   "execution_count": 6
  },
  {
   "metadata": {
    "ExecuteTime": {
     "end_time": "2025-04-15T15:27:59.763471Z",
     "start_time": "2025-04-15T15:27:59.761820Z"
    }
   },
   "cell_type": "code",
   "source": [
    "# for score in midis[:1]:\n",
    "#     songs = m21.instrument.partitionByInstrument(score)\n",
    "#     parts = songs.parts\n",
    "#\n",
    "#     eg_count = 0\n",
    "#     for part in parts:\n",
    "#         print(part, part.partAbbreviation)\n",
    "#         eg_count += 1 if \"Elec Gtr\" in part.partAbbreviation else 0\n",
    "#\n",
    "#     print(score.songName, len(parts), f\"electric guitar track count {eg_count}\")\n",
    "\n"
   ],
   "id": "1eac9776de3933e0",
   "outputs": [],
   "execution_count": 7
  },
  {
   "metadata": {},
   "cell_type": "markdown",
   "source": [
    "music21.instrument.partitionByInstrument() groups by instrument types, not raw MIDI tracks. So if multiple tracks are labeled with the same instrument (e.g., “Guitar”), music21 may merge them into one part.\n",
    "\n",
    "If you want to split the MIDI file strictly by raw track/channel (as seen in your DAW) — not merged by instrument — you’ll want to access the individual Part or Track objects directly, without partitionByInstrument."
   ],
   "id": "f469d112db8b67df"
  },
  {
   "metadata": {
    "ExecuteTime": {
     "end_time": "2025-04-15T15:49:54.348809Z",
     "start_time": "2025-04-15T15:49:54.345045Z"
    }
   },
   "cell_type": "code",
   "source": [
    "for i, part in enumerate(midi.parts):\n",
    "    print(f\"Track {i}: {part.partName}, Instrument: {part.getInstrument().instrumentName}\")"
   ],
   "id": "3e883bf276da43ac",
   "outputs": [
    {
     "name": "stdout",
     "output_type": "stream",
     "text": [
      "Track 0: Backing vocals | Don't, Instrument: None\n",
      "Track 1: Lead vocal | Cry, Instrument: None\n",
      "Track 2: Gtr. I | Guns n' Roses, Instrument: None\n",
      "Track 3: Gtr. II, Instrument: None\n",
      "Track 4: Gtr. III, Instrument: None\n",
      "Track 5: Gtr. IV, Instrument: None\n",
      "Track 6: Gtr. V, Instrument: None\n",
      "Track 7: Lead double, Instrument: None\n",
      "Track 8: Bass, Instrument: None\n"
     ]
    }
   ],
   "execution_count": 5
  },
  {
   "metadata": {
    "ExecuteTime": {
     "end_time": "2025-04-15T15:28:03.388118Z",
     "start_time": "2025-04-15T15:28:03.349156Z"
    }
   },
   "cell_type": "code",
   "source": [
    "songs = m21.instrument.partitionByInstrument(midi)\n",
    "songs"
   ],
   "id": "306de9324246585b",
   "outputs": [
    {
     "data": {
      "text/plain": [
       "<music21.stream.Score 0x117227800>"
      ]
     },
     "execution_count": 9,
     "metadata": {},
     "output_type": "execute_result"
    }
   ],
   "execution_count": 9
  },
  {
   "metadata": {
    "ExecuteTime": {
     "end_time": "2025-04-15T15:28:04.370952Z",
     "start_time": "2025-04-15T15:28:04.369004Z"
    }
   },
   "cell_type": "code",
   "source": [
    "for part in songs.parts:\n",
    "    print(part)"
   ],
   "id": "ff906b4ade9d5bc4",
   "outputs": [
    {
     "name": "stdout",
     "output_type": "stream",
     "text": [
      "<music21.stream.Part Choir>\n",
      "<music21.stream.Part Voice>\n",
      "<music21.stream.Part Electric Guitar>\n",
      "<music21.stream.Part Gtr. V>\n",
      "<music21.stream.Part Baritone Saxophone>\n",
      "<music21.stream.Part Bass>\n",
      "<music21.stream.Part Acoustic Bass>\n"
     ]
    }
   ],
   "execution_count": 10
  },
  {
   "metadata": {
    "ExecuteTime": {
     "end_time": "2025-04-15T15:28:05.801226Z",
     "start_time": "2025-04-15T15:28:05.798005Z"
    }
   },
   "cell_type": "code",
   "source": [
    "electric_guitar = songs.parts[3]\n",
    "notes = electric_guitar.notesAndRests.stream()\n",
    "for pick in notes.recurse():\n",
    "    # print(pick, pick.__class__)\n",
    "    if isinstance(pick, (m21.note.Note, m21.note.Rest, m21.chord.Chord)):\n",
    "        bar_number = pick.getContextByClass(m21.stream.Measure).measureNumber\n",
    "        if bar_number > 10:\n",
    "            break\n",
    "    if pick.__class__ == m21.note.Note:\n",
    "        pitch = pick.pitch\n",
    "        duration = pick.duration\n",
    "        volume = pick.volume\n",
    "        print(f\"Bar {bar_number}; Note {pitch.nameWithOctave}; Duration {duration.type}; Velocity: {volume.velocity}\")\n",
    "    elif pick.__class__ == m21.chord.Chord:\n",
    "        duration = pick.duration\n",
    "        volume = pick.volume\n",
    "        chord_notes = ' '.join([n.pitch.nameWithOctave for n in pick.notes])\n",
    "        print(f\"Bar {bar_number}; Chord {chord_notes}; Duration {duration.type}; Velocity: {volume.velocity}\")\n",
    "    elif pick.__class__ == m21.note.Rest:\n",
    "        duration = pick.duration\n",
    "        print(f\"Bar {bar_number}; Rest; Duration {duration.type}\")\n"
   ],
   "id": "98df0274fd196926",
   "outputs": [],
   "execution_count": 11
  },
  {
   "metadata": {
    "ExecuteTime": {
     "end_time": "2025-04-15T15:28:13.952949Z",
     "start_time": "2025-04-15T15:28:13.950022Z"
    }
   },
   "cell_type": "code",
   "source": [
    "import numpy as np\n",
    "import math\n",
    "samples = np.arange(0,127, math.ceil(127/16))\n",
    "len(samples)"
   ],
   "id": "b61e997a8a2615b5",
   "outputs": [
    {
     "data": {
      "text/plain": [
       "16"
      ]
     },
     "execution_count": 13,
     "metadata": {},
     "output_type": "execute_result"
    }
   ],
   "execution_count": 13
  },
  {
   "metadata": {
    "ExecuteTime": {
     "end_time": "2025-04-15T15:28:17.850684Z",
     "start_time": "2025-04-15T15:28:17.846562Z"
    }
   },
   "cell_type": "code",
   "source": [
    "from music21 import instrument\n",
    "electric_guitar_part = None\n",
    "for part in midi.parts:\n",
    "    # Attempt to get any defined instrument objects\n",
    "    instrs = part.getElementsByClass(instrument.Instrument)\n",
    "    if instrs:\n",
    "        # Check the name of the first instrument in this part\n",
    "        # (some MIDI files have multiple instruments in one part, but that is less common)\n",
    "        first_instr = instrs[0]\n",
    "        # For General MIDI, \"Electric Guitar\" might appear in instrumentName or some variation\n",
    "        # e.g. \"Electric Guitar (jazz)\", \"Overdriven Guitar\", etc.\n",
    "        if \"Electric Guitar\" in (first_instr.instrumentName or \"\"):\n",
    "            electric_guitar_part = part\n",
    "            print(\"part\", part)\n",
    "            break"
   ],
   "id": "733f0b49d294ee3e",
   "outputs": [
    {
     "name": "stdout",
     "output_type": "stream",
     "text": [
      "part <music21.stream.Part Electric Guitar>\n"
     ]
    }
   ],
   "execution_count": 14
  },
  {
   "metadata": {
    "ExecuteTime": {
     "end_time": "2025-04-15T15:55:22.000243Z",
     "start_time": "2025-04-15T15:55:21.998021Z"
    }
   },
   "cell_type": "code",
   "source": [
    "electric_guitar_part = midi.parts[6]\n",
    "electric_guitar_part"
   ],
   "id": "77bcd9808f6b029d",
   "outputs": [
    {
     "data": {
      "text/plain": [
       "<music21.stream.Part 0x11b79b770>"
      ]
     },
     "execution_count": 7,
     "metadata": {},
     "output_type": "execute_result"
    }
   ],
   "execution_count": 7
  },
  {
   "metadata": {
    "ExecuteTime": {
     "end_time": "2025-04-15T15:55:29.782363Z",
     "start_time": "2025-04-15T15:55:29.746088Z"
    }
   },
   "cell_type": "code",
   "source": [
    "# Save it as a new MIDI file temporarily\n",
    "electric_guitar_part.write('midi', fp=f'{ISOLATE_MIDI_TRACKS}Don_t_Cry_Electric_Guitar.mid')"
   ],
   "id": "f801d2c6606cdf6c",
   "outputs": [
    {
     "data": {
      "text/plain": [
       "'../midi/Don_t_Cry_Electric_Guitar.mid'"
      ]
     },
     "execution_count": 8,
     "metadata": {},
     "output_type": "execute_result"
    }
   ],
   "execution_count": 8
  },
  {
   "metadata": {
    "ExecuteTime": {
     "end_time": "2025-04-15T15:55:34.813175Z",
     "start_time": "2025-04-15T15:55:34.695629Z"
    }
   },
   "cell_type": "code",
   "source": [
    "from miditok import REMI, TokenizerConfig\n",
    "from symusic import Score\n",
    "\n",
    "config = TokenizerConfig(num_velocities=16, use_chords=True, use_programs=True, use_rests=True)\n",
    "tokenizer = REMI(config)\n",
    "\n",
    "# full song MIDI\n",
    "# midit = Score(f'{BASE_MUSIC_PATH}{ARTIST_NAME}/Don_t_Cry.mid')\n",
    "\n",
    "# electric guitar part\n",
    "midit = Score(f'{ISOLATE_MIDI_TRACKS}Don_t_Cry_Electric_Guitar.mid')\n",
    "\n",
    "tokseq = tokenizer(midit)\n",
    "tokens, ids = tokseq.tokens, tokseq.ids\n",
    "converted_back_midi = tokenizer(tokseq)\n",
    "\n",
    "tokens[:4], ids[:4]"
   ],
   "id": "63aaa1e04e77ef1d",
   "outputs": [
    {
     "name": "stderr",
     "output_type": "stream",
     "text": [
      "/opt/miniconda3/envs/music-llm/lib/python3.12/site-packages/tqdm/auto.py:21: TqdmWarning: IProgress not found. Please update jupyter and ipywidgets. See https://ipywidgets.readthedocs.io/en/stable/user_install.html\n",
      "  from .autonotebook import tqdm as notebook_tqdm\n",
      "/opt/miniconda3/envs/music-llm/lib/python3.12/site-packages/miditok/tokenizations/remi.py:88: UserWarning: Attribute controls are not compatible with 'config.one_token_stream_for_programs' and multi-vocabulary tokenizers. Disabling them from the config.\n",
      "  super().__init__(tokenizer_config, params)\n"
     ]
    },
    {
     "data": {
      "text/plain": [
       "(['Rest_12.0.2', 'Rest_12.0.2', 'Rest_12.0.2', 'Rest_12.0.2'],\n",
       " [311, 311, 311, 311])"
      ]
     },
     "execution_count": 9,
     "metadata": {},
     "output_type": "execute_result"
    }
   ],
   "execution_count": 9
  },
  {
   "metadata": {
    "ExecuteTime": {
     "end_time": "2025-04-15T15:55:40.938021Z",
     "start_time": "2025-04-15T15:55:40.934323Z"
    }
   },
   "cell_type": "code",
   "source": [
    "from music21 import tempo, meter\n",
    "\n",
    "# Get tempo (returns a MetronomeMark object)\n",
    "tempo_markings = electric_guitar_part.recurse().getElementsByClass(tempo.MetronomeMark)\n",
    "for t in tempo_markings:\n",
    "    print(\"Tempo:\", t.number, \"BPM\")\n",
    "\n",
    "# Get time signature (returns TimeSignature objects)\n",
    "time_signatures = electric_guitar_part.recurse().getElementsByClass(meter.TimeSignature)\n",
    "for ts in time_signatures:\n",
    "    print(\"Time Signature:\", ts.ratioString)"
   ],
   "id": "b7cdeefd2008c714",
   "outputs": [
    {
     "name": "stdout",
     "output_type": "stream",
     "text": [
      "Tempo: 62 BPM\n",
      "Time Signature: 4/4\n",
      "Time Signature: 2/4\n",
      "Time Signature: 4/4\n",
      "Time Signature: 2/4\n",
      "Time Signature: 4/4\n"
     ]
    }
   ],
   "execution_count": 10
  },
  {
   "metadata": {
    "ExecuteTime": {
     "end_time": "2025-04-15T15:55:45.597536Z",
     "start_time": "2025-04-15T15:55:45.595039Z"
    }
   },
   "cell_type": "code",
   "source": [
    "# vocabulary of tokenizer\n",
    "itom = {i:n for i, n in enumerate(tokenizer.vocab)}"
   ],
   "id": "c35067f10381fdf0",
   "outputs": [],
   "execution_count": 11
  },
  {
   "metadata": {
    "ExecuteTime": {
     "end_time": "2025-04-15T15:55:47.289144Z",
     "start_time": "2025-04-15T15:55:47.287070Z"
    }
   },
   "cell_type": "code",
   "source": [
    "# function to print these tokens\n",
    "def print_tokens(tokens):\n",
    "    for i, token in enumerate(tokens):\n",
    "        if isinstance(token, int):\n",
    "            print(f\"Token {i}: {itom[token]}\")\n",
    "        else:\n",
    "            print(f\"Token {i}: {token}\")"
   ],
   "id": "3906361f6585106",
   "outputs": [],
   "execution_count": 12
  },
  {
   "metadata": {
    "ExecuteTime": {
     "end_time": "2025-04-15T16:22:37.436972Z",
     "start_time": "2025-04-15T16:22:37.434723Z"
    }
   },
   "cell_type": "code",
   "source": "tokens[:50]",
   "id": "ecb093d97150ad06",
   "outputs": [
    {
     "data": {
      "text/plain": [
       "['Rest_12.0.2',\n",
       " 'Rest_12.0.2',\n",
       " 'Rest_12.0.2',\n",
       " 'Rest_12.0.2',\n",
       " 'Rest_12.0.2',\n",
       " 'Rest_12.0.2',\n",
       " 'Rest_12.0.2',\n",
       " 'Rest_12.0.2',\n",
       " 'Rest_12.0.2',\n",
       " 'Rest_12.0.2',\n",
       " 'Rest_12.0.2',\n",
       " 'Rest_12.0.2',\n",
       " 'Rest_4.0.2',\n",
       " 'Position_0',\n",
       " 'Program_30',\n",
       " 'Pitch_81',\n",
       " 'Velocity_63',\n",
       " 'Duration_3.0.8',\n",
       " 'Program_30',\n",
       " 'Pitch_69',\n",
       " 'Velocity_63',\n",
       " 'Duration_3.0.8',\n",
       " 'Position_24',\n",
       " 'Program_30',\n",
       " 'Pitch_76',\n",
       " 'Velocity_63',\n",
       " 'Duration_1.0.8',\n",
       " 'Bar_None',\n",
       " 'Position_0',\n",
       " 'Program_30',\n",
       " 'Pitch_74',\n",
       " 'Velocity_63',\n",
       " 'Duration_1.2.8',\n",
       " 'Position_10',\n",
       " 'Program_30',\n",
       " 'Pitch_74',\n",
       " 'Velocity_63',\n",
       " 'Duration_0.6.8',\n",
       " 'Position_16',\n",
       " 'Program_30',\n",
       " 'Pitch_74',\n",
       " 'Velocity_63',\n",
       " 'Duration_0.4.8',\n",
       " 'Position_20',\n",
       " 'Program_30',\n",
       " 'Pitch_79',\n",
       " 'Velocity_63',\n",
       " 'Duration_0.6.8',\n",
       " 'Position_26',\n",
       " 'Program_30']"
      ]
     },
     "execution_count": 24,
     "metadata": {},
     "output_type": "execute_result"
    }
   ],
   "execution_count": 24
  },
  {
   "metadata": {
    "ExecuteTime": {
     "end_time": "2025-04-15T17:12:25.488456Z",
     "start_time": "2025-04-15T17:12:25.485242Z"
    }
   },
   "cell_type": "code",
   "source": [
    "# for now, this tries to remove any repeated Rest tokens\n",
    "# the solo need not include the rests as they obviously start much later in most cases\n",
    "solo_tokens = []\n",
    "has_position_showed = False\n",
    "for i in range(1, len(tokens)):\n",
    "    current_token = tokens[i]\n",
    "    prev_token = tokens[i - 1]\n",
    "    current_token_type = current_token.split('_')[0]\n",
    "    prev_token_type = prev_token.split('_')[0]\n",
    "    if current_token_type == 'Position' or prev_token_type == 'Position':\n",
    "        # lets stop if we see a position token, mostly means the solo has started\n",
    "        has_position_showed =  True\n",
    "        continue\n",
    "    elif not has_position_showed and prev_token_type == current_token_type and current_token_type == 'Rest':\n",
    "        pass\n",
    "    else:\n",
    "        solo_tokens.append(current_token)\n",
    "\n",
    "solo_tokens[:100]"
   ],
   "id": "e65a0c23426d886d",
   "outputs": [
    {
     "data": {
      "text/plain": [
       "['Pitch_81',\n",
       " 'Velocity_63',\n",
       " 'Duration_3.0.8',\n",
       " 'Program_30',\n",
       " 'Pitch_69',\n",
       " 'Velocity_63',\n",
       " 'Duration_3.0.8',\n",
       " 'Pitch_76',\n",
       " 'Velocity_63',\n",
       " 'Duration_1.0.8',\n",
       " 'Bar_None',\n",
       " 'Pitch_74',\n",
       " 'Velocity_63',\n",
       " 'Duration_1.2.8',\n",
       " 'Pitch_74',\n",
       " 'Velocity_63',\n",
       " 'Duration_0.6.8',\n",
       " 'Pitch_74',\n",
       " 'Velocity_63',\n",
       " 'Duration_0.4.8',\n",
       " 'Pitch_79',\n",
       " 'Velocity_63',\n",
       " 'Duration_0.6.8',\n",
       " 'Pitch_74',\n",
       " 'Velocity_63',\n",
       " 'Duration_0.6.8',\n",
       " 'Bar_None',\n",
       " 'Pitch_74',\n",
       " 'Velocity_63',\n",
       " 'Duration_1.0.8',\n",
       " 'Pitch_77',\n",
       " 'Velocity_63',\n",
       " 'Duration_0.2.8',\n",
       " 'Pitch_77',\n",
       " 'Velocity_63',\n",
       " 'Duration_0.2.8',\n",
       " 'Pitch_74',\n",
       " 'Velocity_63',\n",
       " 'Duration_0.4.8',\n",
       " 'Pitch_72',\n",
       " 'Velocity_63',\n",
       " 'Duration_0.4.8',\n",
       " 'Pitch_69',\n",
       " 'Velocity_63',\n",
       " 'Duration_0.4.8',\n",
       " 'Pitch_67',\n",
       " 'Velocity_63',\n",
       " 'Duration_0.4.8',\n",
       " 'Pitch_62',\n",
       " 'Velocity_63',\n",
       " 'Duration_0.4.8',\n",
       " 'Pitch_60',\n",
       " 'Velocity_63',\n",
       " 'Duration_0.4.8',\n",
       " 'Bar_None',\n",
       " 'Pitch_62',\n",
       " 'Velocity_63',\n",
       " 'Duration_0.4.8',\n",
       " 'Program_30',\n",
       " 'Pitch_74',\n",
       " 'Velocity_63',\n",
       " 'Duration_0.4.8',\n",
       " 'Pitch_64',\n",
       " 'Velocity_63',\n",
       " 'Duration_0.4.8',\n",
       " 'Program_30',\n",
       " 'Pitch_76',\n",
       " 'Velocity_63',\n",
       " 'Duration_0.4.8',\n",
       " 'Pitch_65',\n",
       " 'Velocity_63',\n",
       " 'Duration_0.4.8',\n",
       " 'Pitch_67',\n",
       " 'Velocity_63',\n",
       " 'Duration_0.4.8',\n",
       " 'Pitch_72',\n",
       " 'Velocity_63',\n",
       " 'Duration_0.4.8',\n",
       " 'Pitch_74',\n",
       " 'Velocity_63',\n",
       " 'Duration_0.4.8',\n",
       " 'Pitch_79',\n",
       " 'Velocity_63',\n",
       " 'Duration_0.4.8',\n",
       " 'Pitch_86',\n",
       " 'Velocity_63',\n",
       " 'Duration_0.4.8',\n",
       " 'Bar_None',\n",
       " 'Pitch_84',\n",
       " 'Velocity_63',\n",
       " 'Duration_0.4.8',\n",
       " 'Pitch_81',\n",
       " 'Velocity_63',\n",
       " 'Duration_0.4.8',\n",
       " 'Pitch_79',\n",
       " 'Velocity_63',\n",
       " 'Duration_0.2.8',\n",
       " 'Pitch_76',\n",
       " 'Velocity_63',\n",
       " 'Duration_0.2.8']"
      ]
     },
     "execution_count": 33,
     "metadata": {},
     "output_type": "execute_result"
    }
   ],
   "execution_count": 33
  },
  {
   "metadata": {
    "ExecuteTime": {
     "end_time": "2025-04-15T17:04:57.369936Z",
     "start_time": "2025-04-15T17:04:57.367241Z"
    }
   },
   "cell_type": "code",
   "source": "m21.pitch.Pitch(midi=74).nameWithOctave",
   "id": "29730624e2e018c8",
   "outputs": [
    {
     "data": {
      "text/plain": [
       "'D5'"
      ]
     },
     "execution_count": 31,
     "metadata": {},
     "output_type": "execute_result"
    }
   ],
   "execution_count": 31
  },
  {
   "metadata": {
    "ExecuteTime": {
     "end_time": "2025-04-15T16:08:14.451648Z",
     "start_time": "2025-04-15T16:08:14.449183Z"
    }
   },
   "cell_type": "code",
   "source": "config.beat_res",
   "id": "2027500528041cf1",
   "outputs": [
    {
     "data": {
      "text/plain": [
       "{(0, 4): 8, (4, 12): 4}"
      ]
     },
     "execution_count": 18,
     "metadata": {},
     "output_type": "execute_result"
    }
   ],
   "execution_count": 18
  },
  {
   "metadata": {},
   "cell_type": "code",
   "outputs": [],
   "execution_count": null,
   "source": "",
   "id": "2c3ad35b72db3ced"
  }
 ],
 "metadata": {
  "kernelspec": {
   "display_name": "Python 3",
   "language": "python",
   "name": "python3"
  },
  "language_info": {
   "codemirror_mode": {
    "name": "ipython",
    "version": 2
   },
   "file_extension": ".py",
   "mimetype": "text/x-python",
   "name": "python",
   "nbconvert_exporter": "python",
   "pygments_lexer": "ipython2",
   "version": "2.7.6"
  }
 },
 "nbformat": 4,
 "nbformat_minor": 5
}
