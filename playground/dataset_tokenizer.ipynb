{
 "cells": [
  {
   "metadata": {
    "ExecuteTime": {
     "end_time": "2025-10-01T06:57:37.003756Z",
     "start_time": "2025-10-01T06:57:35.828366Z"
    }
   },
   "cell_type": "code",
   "source": [
    "from pathlib import Path\n",
    "from miditok.data_augmentation import augment_dataset\n",
    "\n",
    "data_path = Path(\"../data\")\n",
    "tokenized_folder = data_path / \"tokenized/\"\n",
    "augmented_folder = data_path / \"augmented/\""
   ],
   "id": "31dca71e0e09aeff",
   "outputs": [
    {
     "name": "stderr",
     "output_type": "stream",
     "text": [
      "/opt/miniconda3/envs/music-llm/lib/python3.12/site-packages/tqdm/auto.py:21: TqdmWarning: IProgress not found. Please update jupyter and ipywidgets. See https://ipywidgets.readthedocs.io/en/stable/user_install.html\n",
      "  from .autonotebook import tqdm as notebook_tqdm\n"
     ]
    }
   ],
   "execution_count": 1
  },
  {
   "metadata": {
    "ExecuteTime": {
     "end_time": "2025-10-01T06:58:22.535965Z",
     "start_time": "2025-10-01T06:58:22.533430Z"
    }
   },
   "cell_type": "code",
   "source": [
    "from miditok.constants import SUPPORTED_MUSIC_FILE_EXTENSIONS\n",
    "music_folder = data_path / \"midi/\"\n",
    "\n",
    "files_paths = [\n",
    "    path\n",
    "    for path in music_folder.glob(\"**/*\")\n",
    "    if path.suffix in SUPPORTED_MUSIC_FILE_EXTENSIONS\n",
    "]\n",
    "\n",
    "print(\"File paths\", files_paths)"
   ],
   "id": "1ac8c9f212b67dfc",
   "outputs": [
    {
     "name": "stdout",
     "output_type": "stream",
     "text": [
      "File paths [PosixPath(\"../data/midi/Don_t_Cry_Gtr._I_|_Guns_n'_Roses.mid\"), PosixPath('../data/midi/Estranged_Electric_Guitar.mid'), PosixPath('../data/midi/Paradise_City.1_Electric_Guitar.mid'), PosixPath('../data/midi/Back_Off_Bitch_Gtr._I.mid'), PosixPath('../data/midi/Since_I_Don_t_Have_You_Electric_Guitar.mid'), PosixPath('../data/midi/Don_t_Cry.1_DISTORTION.mid'), PosixPath('../data/midi/Dust_N_Bones.1_Electric_Guitar.mid'), PosixPath('../data/midi/Live_Let_Die.1_DISTORTION.mid'), PosixPath('../data/midi/Knockin_on_Heaven_Door.3_-GnR.mid'), PosixPath('../data/midi/Rocket_Queen_Electric_Guitar.mid'), PosixPath('../data/midi/Nightrain_Slash.mid'), PosixPath('../data/midi/Live_Let_Die_Electric_Guitar.mid'), PosixPath('../data/midi/November_Rain.2_Electric_Guitar.mid'), PosixPath('../data/midi/Locomotive_Electric_Guitar.mid'), PosixPath('../data/midi/Paradise_City_Dst_Gtr.mid'), PosixPath('../data/midi/November_Rain.3_-Slash_-Lead_and_rythem-.mid'), PosixPath('../data/midi/You_Could_Be_Mine.1_Electric_Guitar.mid'), PosixPath('../data/midi/Knockin_on_Heaven_Door.4_Electric_Guitar.mid'), PosixPath('../data/midi/Knockin_on_Heaven_Door_Electric_Guitar.mid'), PosixPath('../data/midi/Civil_War_CLEAN_GTR.mid'), PosixPath('../data/midi/Welcome_to_the_Jungle.2_Electric_Guitar.mid'), PosixPath('../data/midi/Coma_Gtr._I.mid'), PosixPath('../data/midi/Sweet_Child_O_Mine.1_Electric_Guitar.mid'), PosixPath('../data/midi/You_Could_Be_Mine_Electric_Guitar.mid'), PosixPath('../data/midi/Dust_N_Bones_Electric_Guitar.mid'), PosixPath('../data/midi/Welcome_to_the_Jungle.1_Electric_Guitar.mid'), PosixPath('../data/midi/Knockin_on_Heaven_Door.2_CLEAN_GTR.mid'), PosixPath('../data/midi/Yesterday_s_Melody__(BB).mid'), PosixPath('../data/midi/November_Rain_CLEAN_GTR.mid'), PosixPath('../data/midi/November_Rain.4_-Slash_-Lead_and_rythem-.mid'), PosixPath('../data/midi/Civil_War.1_Electric_Guitar.mid'), PosixPath('../data/midi/Get_in_the_Ring_Electric_Guitar.mid'), PosixPath('../data/midi/November_Rain.1_or_INN_mb#38563.mid')]\n"
     ]
    }
   ],
   "execution_count": 5
  },
  {
   "metadata": {
    "ExecuteTime": {
     "end_time": "2025-09-30T18:02:01.785608Z",
     "start_time": "2025-09-30T18:02:01.776215Z"
    }
   },
   "cell_type": "code",
   "source": [
    "print(\"tok_dir exists:\", tokenized_folder.exists(), \"is_dir:\", tokenized_folder.is_dir())\n",
    "print(\"example files:\", [str(p) for p in tokenized_folder.rglob('*.json')][:5])\n",
    "\n",
    "import tqdm"
   ],
   "id": "e855cbbc990bf1c5",
   "outputs": [
    {
     "name": "stdout",
     "output_type": "stream",
     "text": [
      "tok_dir exists: True is_dir: True\n",
      "example files: ['../data/tokenized/Locomotive_Electric_Guitar.json', '../data/tokenized/Paradise_City.1_Electric_Guitar.json', '../data/tokenized/November_Rain_CLEAN_GTR.json', '../data/tokenized/Dust_N_Bones.1_Electric_Guitar.json', '../data/tokenized/November_Rain.3_-Slash_-Lead_and_rythem-.json']\n"
     ]
    }
   ],
   "execution_count": 8
  },
  {
   "metadata": {
    "ExecuteTime": {
     "end_time": "2025-10-01T07:00:26.935298Z",
     "start_time": "2025-10-01T07:00:26.780553Z"
    }
   },
   "cell_type": "code",
   "source": [
    "augment_dataset(\n",
    "    data_path=music_folder,\n",
    "    pitch_offsets=[-12, 12],\n",
    "    velocity_offsets=[-4, 5],\n",
    "    duration_offsets=[-0.5, 1],\n",
    "    out_path=augmented_folder,\n",
    ")"
   ],
   "id": "5c5cdf7ff1b01d21",
   "outputs": [
    {
     "name": "stderr",
     "output_type": "stream",
     "text": [
      "Performing data augmentation: 100%|██████████| 33/33 [00:00<00:00, 270.40it/s]\n"
     ]
    }
   ],
   "execution_count": 6
  },
  {
   "metadata": {},
   "cell_type": "code",
   "outputs": [],
   "execution_count": 7,
   "source": [
    "from src.model.model import Head\n",
    "import torch"
   ],
   "id": "initial_id"
  },
  {
   "metadata": {
    "ExecuteTime": {
     "end_time": "2025-09-09T17:16:58.329687Z",
     "start_time": "2025-09-09T17:16:58.327291Z"
    }
   },
   "cell_type": "code",
   "source": "torch.manual_seed(1337)",
   "id": "8f220abcc9e8eaf8",
   "outputs": [
    {
     "data": {
      "text/plain": [
       "<torch._C.Generator at 0x122a87a30>"
      ]
     },
     "execution_count": 13,
     "metadata": {},
     "output_type": "execute_result"
    }
   ],
   "execution_count": 13
  },
  {
   "metadata": {
    "ExecuteTime": {
     "end_time": "2025-09-09T17:16:58.564510Z",
     "start_time": "2025-09-09T17:16:58.559387Z"
    }
   },
   "cell_type": "code",
   "source": [
    "head = Head(head_size=8, n_embd=32)\n",
    "head.tril"
   ],
   "id": "1483a786855297da",
   "outputs": [
    {
     "data": {
      "text/plain": [
       "tensor([[1., 0., 0.,  ..., 0., 0., 0.],\n",
       "        [1., 1., 0.,  ..., 0., 0., 0.],\n",
       "        [1., 1., 1.,  ..., 0., 0., 0.],\n",
       "        ...,\n",
       "        [1., 1., 1.,  ..., 1., 0., 0.],\n",
       "        [1., 1., 1.,  ..., 1., 1., 0.],\n",
       "        [1., 1., 1.,  ..., 1., 1., 1.]])"
      ]
     },
     "execution_count": 14,
     "metadata": {},
     "output_type": "execute_result"
    }
   ],
   "execution_count": 14
  },
  {
   "metadata": {
    "ExecuteTime": {
     "end_time": "2025-09-09T17:15:43.010021Z",
     "start_time": "2025-09-09T17:15:43.004476Z"
    }
   },
   "cell_type": "code",
   "source": [
    "B, T, C = 4, 8, 32\n",
    "x = torch.randn((B, T, C))\n",
    "x"
   ],
   "id": "59e5abf9a5b6f8d8",
   "outputs": [
    {
     "data": {
      "text/plain": [
       "tensor([[[ 3.3299e-01,  1.0995e+00,  4.0335e-01,  ...,  1.6634e+00,\n",
       "          -4.7180e-01,  5.8567e-01],\n",
       "         [-9.5790e-01,  9.4345e-01, -2.1992e+00,  ..., -7.2962e-01,\n",
       "           1.6526e-01, -3.3901e-01],\n",
       "         [ 1.5416e+00,  1.0231e+00,  1.3392e+00,  ..., -4.3305e-02,\n",
       "          -2.5050e-01, -7.4927e-01],\n",
       "         ...,\n",
       "         [ 7.4498e-01,  7.1704e-01,  1.2668e+00,  ...,  1.9359e+00,\n",
       "           2.0350e+00,  2.0187e+00],\n",
       "         [ 3.2340e-02, -6.3372e-01,  2.9381e-01,  ..., -3.2975e-01,\n",
       "          -1.9170e-02,  9.2251e-01],\n",
       "         [ 9.1867e-01,  2.9977e-01,  6.1063e-01,  ...,  8.2824e-01,\n",
       "          -4.8264e-01,  1.8330e+00]],\n",
       "\n",
       "        [[ 3.4207e-01,  2.1544e-01, -1.0289e-01,  ...,  4.5889e-01,\n",
       "          -6.5318e-01,  1.1831e+00],\n",
       "         [-3.6659e-01,  4.4723e-01, -2.8425e-01,  ..., -9.2288e-01,\n",
       "           2.3084e-01, -7.5861e-01],\n",
       "         [-1.6410e+00, -1.3728e+00, -1.3389e+00,  ...,  9.2413e-01,\n",
       "          -5.1309e-01, -7.6122e-01],\n",
       "         ...,\n",
       "         [ 7.7094e-01,  6.2569e-01, -2.3083e-01,  ..., -1.1393e+00,\n",
       "           5.0240e-02, -1.1192e+00],\n",
       "         [ 1.0587e+00, -3.8209e-01, -4.4788e-01,  ...,  4.0615e-01,\n",
       "          -7.0772e-01, -2.3264e-01],\n",
       "         [-2.7803e-01, -4.1071e-01, -1.2744e+00,  ..., -2.7970e-01,\n",
       "           6.9098e-02,  2.9650e-01]],\n",
       "\n",
       "        [[-4.6800e-01, -1.2197e+00, -1.6726e+00,  ...,  1.7128e-01,\n",
       "          -3.1569e-01,  6.8166e-01],\n",
       "         [-2.9132e-01,  1.7912e+00, -5.2887e-04,  ..., -5.9288e-01,\n",
       "           8.3394e-01,  5.7746e-01],\n",
       "         [-7.3926e-01, -3.7309e-02, -8.1585e-01,  ...,  6.4241e-01,\n",
       "           9.3864e-01, -7.6262e-01],\n",
       "         ...,\n",
       "         [ 1.7522e-01,  7.5107e-01,  6.1853e-01,  ...,  1.1981e+00,\n",
       "           7.8190e-01, -1.3479e-01],\n",
       "         [ 1.0729e+00, -1.1304e+00, -1.2815e+00,  ..., -1.1337e+00,\n",
       "          -1.2783e+00, -4.3894e-01],\n",
       "         [-8.6417e-01,  7.7469e-01, -2.7729e-01,  ...,  8.1311e-01,\n",
       "          -1.1475e+00,  1.3358e+00]],\n",
       "\n",
       "        [[-6.1025e-01,  6.5213e-02, -8.1089e-01,  ..., -5.1818e-02,\n",
       "           4.9956e-01,  7.2163e-01],\n",
       "         [-8.9682e-01, -4.1225e-01,  1.0030e+00,  ..., -8.9947e-01,\n",
       "          -9.5830e-01, -5.9446e-01],\n",
       "         [ 1.3208e-01, -5.4062e-01,  1.4049e-01,  ...,  3.6077e-01,\n",
       "           3.1605e-01,  3.5036e-01],\n",
       "         ...,\n",
       "         [-2.0078e-02, -2.6142e-01,  9.9014e-01,  ...,  3.9531e-01,\n",
       "           1.8599e+00,  1.2386e+00],\n",
       "         [-5.4467e-01, -8.1668e-02, -3.7878e-01,  ..., -7.0467e-01,\n",
       "          -1.8517e-01, -6.2425e-01],\n",
       "         [ 1.2858e+00,  1.3682e-01, -2.7569e-01,  ...,  2.8286e-01,\n",
       "           4.2698e-01,  6.4930e-01]]])"
      ]
     },
     "execution_count": 10,
     "metadata": {},
     "output_type": "execute_result"
    }
   ],
   "execution_count": 10
  },
  {
   "metadata": {
    "ExecuteTime": {
     "end_time": "2025-09-09T17:16:15.434367Z",
     "start_time": "2025-09-09T17:16:15.429421Z"
    }
   },
   "cell_type": "code",
   "source": [
    "out = head.forward(x)\n",
    "out.shape"
   ],
   "id": "31a700e14e81941",
   "outputs": [
    {
     "data": {
      "text/plain": [
       "torch.Size([4, 8, 8])"
      ]
     },
     "execution_count": 11,
     "metadata": {},
     "output_type": "execute_result"
    }
   ],
   "execution_count": 11
  },
  {
   "metadata": {
    "ExecuteTime": {
     "end_time": "2025-09-09T17:16:16.706111Z",
     "start_time": "2025-09-09T17:16:16.702590Z"
    }
   },
   "cell_type": "code",
   "source": "out[0][0]",
   "id": "2ab7e62cb620752b",
   "outputs": [
    {
     "data": {
      "text/plain": [
       "tensor([nan, nan, nan, nan, nan, nan, nan, nan], grad_fn=<SelectBackward0>)"
      ]
     },
     "execution_count": 12,
     "metadata": {},
     "output_type": "execute_result"
    }
   ],
   "execution_count": 12
  },
  {
   "metadata": {
    "ExecuteTime": {
     "end_time": "2025-09-09T17:13:41.351331Z",
     "start_time": "2025-09-09T17:13:41.348112Z"
    }
   },
   "cell_type": "code",
   "source": "print(head.wei[0][3])",
   "id": "1ac0ac05580d223f",
   "outputs": [
    {
     "name": "stdout",
     "output_type": "stream",
     "text": [
      "tensor([nan, nan, nan, nan, nan, nan, nan, nan, nan, nan, nan, nan, nan, nan, nan, nan, nan, nan, nan, nan, nan, nan, nan, nan,\n",
      "        nan, nan, nan, nan, nan, nan, nan, nan, nan, nan, nan, nan, nan, nan, nan, nan, nan, nan, nan, nan, nan, nan, nan, nan,\n",
      "        nan, nan, nan, nan, nan, nan, nan, nan, nan, nan, nan, nan, nan, nan, nan, nan, nan, nan, nan, nan, nan, nan, nan, nan,\n",
      "        nan, nan, nan, nan, nan, nan, nan, nan, nan, nan, nan, nan, nan, nan, nan, nan, nan, nan, nan, nan, nan, nan, nan, nan,\n",
      "        nan, nan, nan, nan, nan, nan, nan, nan, nan, nan, nan, nan, nan, nan, nan, nan, nan, nan, nan, nan, nan, nan, nan, nan,\n",
      "        nan, nan, nan, nan, nan, nan, nan, nan], grad_fn=<SelectBackward0>)\n"
     ]
    }
   ],
   "execution_count": 7
  },
  {
   "metadata": {
    "ExecuteTime": {
     "end_time": "2025-09-09T17:13:37.928449Z",
     "start_time": "2025-09-09T17:13:37.927235Z"
    }
   },
   "cell_type": "code",
   "source": "",
   "id": "9a84c3685b89d2fd",
   "outputs": [],
   "execution_count": null
  }
 ],
 "metadata": {
  "kernelspec": {
   "display_name": "Python 3",
   "language": "python",
   "name": "python3"
  },
  "language_info": {
   "codemirror_mode": {
    "name": "ipython",
    "version": 2
   },
   "file_extension": ".py",
   "mimetype": "text/x-python",
   "name": "python",
   "nbconvert_exporter": "python",
   "pygments_lexer": "ipython2",
   "version": "2.7.6"
  }
 },
 "nbformat": 4,
 "nbformat_minor": 5
}
